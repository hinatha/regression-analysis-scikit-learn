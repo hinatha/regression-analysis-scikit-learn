{
 "cells": [
  {
   "cell_type": "markdown",
   "id": "c3a1d17f-8587-42ba-ad68-fa2598233748",
   "metadata": {},
   "source": [
    "# ボストンのMEDV（物件価格の中央値）の回帰"
   ]
  },
  {
   "cell_type": "markdown",
   "id": "e1b801ba-9ef5-4a18-9cf4-ade8bcd4ca9c",
   "metadata": {},
   "source": [
    "## データセットの準備"
   ]
  },
  {
   "cell_type": "code",
   "execution_count": 1,
   "id": "9b1a79db-da5e-4869-8609-4f8da840baac",
   "metadata": {},
   "outputs": [],
   "source": [
    "from sklearn.datasets import load_boston\n",
    "\n",
    "dataset = load_boston()"
   ]
  },
  {
   "cell_type": "code",
   "execution_count": 2,
   "id": "4d314773-05c9-4f34-9839-f7af7c3e6757",
   "metadata": {},
   "outputs": [],
   "source": [
    "boston_data = dataset.data\n",
    "boston_target = dataset.target"
   ]
  },
  {
   "cell_type": "code",
   "execution_count": 3,
   "id": "3626ec2d-9f83-4c9d-b939-a3cec4a94cd8",
   "metadata": {},
   "outputs": [
    {
     "data": {
      "text/plain": [
       "(506, 13)"
      ]
     },
     "execution_count": 3,
     "metadata": {},
     "output_type": "execute_result"
    }
   ],
   "source": [
    "boston_data.shape"
   ]
  },
  {
   "cell_type": "code",
   "execution_count": 4,
   "id": "0171fe83-0d1a-42e2-b40c-aca8b505efb5",
   "metadata": {},
   "outputs": [
    {
     "data": {
      "text/plain": [
       "(506,)"
      ]
     },
     "execution_count": 4,
     "metadata": {},
     "output_type": "execute_result"
    }
   ],
   "source": [
    "boston_target.shape"
   ]
  },
  {
   "cell_type": "markdown",
   "id": "576fff5c-015e-4143-a556-f0345ec907a1",
   "metadata": {},
   "source": [
    "### データセットの分割"
   ]
  },
  {
   "cell_type": "code",
   "execution_count": 32,
   "id": "e7f66c1a-7461-476a-87ee-1baf4d3239b7",
   "metadata": {},
   "outputs": [
    {
     "data": {
      "text/plain": [
       "numpy.ndarray"
      ]
     },
     "execution_count": 32,
     "metadata": {},
     "output_type": "execute_result"
    }
   ],
   "source": [
    "# データセットを分割する関数の読み込み\n",
    "from sklearn.model_selection import train_test_split\n",
    "\n",
    "# 訓練用データセットとテスト用データセットへの分割\n",
    "boston_data_train, boston_data_test, boston_target_train, boston_target_test = train_test_split(boston_data, boston_target, test_size=0.3, random_state=0)\n",
    "\n",
    "# 分割とともにdataframe型からndarray型に変換している\n",
    "type(boston_data_train)"
   ]
  },
  {
   "cell_type": "markdown",
   "id": "6fc336eb-a8d5-4184-b996-58c0964b3928",
   "metadata": {},
   "source": [
    "## モデル・目的関数・最適化手法の定義"
   ]
  },
  {
   "cell_type": "code",
   "execution_count": 33,
   "id": "d6025793-93be-4358-8a2a-51087ff779f5",
   "metadata": {},
   "outputs": [],
   "source": [
    "from sklearn.linear_model import LinearRegression\n",
    "\n",
    "# 最小二乗法を行うclassのインスタンス化\n",
    "# 内部で目的関数や最適化手法も行なっている\n",
    "reg_model = LinearRegression()"
   ]
  },
  {
   "cell_type": "markdown",
   "id": "007b6071-7ec6-4c61-bc04-ce20da7eb5d7",
   "metadata": {},
   "source": [
    "## モデルの訓練"
   ]
  },
  {
   "cell_type": "code",
   "execution_count": 34,
   "id": "3eef3a1c-5a63-4d2f-a7a2-786bb5adc4ed",
   "metadata": {},
   "outputs": [
    {
     "data": {
      "text/plain": [
       "LinearRegression()"
      ]
     },
     "execution_count": 34,
     "metadata": {},
     "output_type": "execute_result"
    }
   ],
   "source": [
    "# モデルの重みwとバイアスbが求まる\n",
    "reg_model.fit(boston_data_train, boston_target_train)"
   ]
  },
  {
   "cell_type": "code",
   "execution_count": 35,
   "id": "38c3636f-9597-46c9-afca-b58d03945fb2",
   "metadata": {},
   "outputs": [
    {
     "data": {
      "text/plain": [
       "array([-1.21310401e-01,  4.44664254e-02,  1.13416945e-02,  2.51124642e+00,\n",
       "       -1.62312529e+01,  3.85906801e+00, -9.98516565e-03, -1.50026956e+00,\n",
       "        2.42143466e-01, -1.10716124e-02, -1.01775264e+00,  6.81446545e-03,\n",
       "       -4.86738066e-01])"
      ]
     },
     "execution_count": 35,
     "metadata": {},
     "output_type": "execute_result"
    }
   ],
   "source": [
    "# 訓練後のパラメータ w\n",
    "reg_model.coef_"
   ]
  },
  {
   "cell_type": "code",
   "execution_count": 36,
   "id": "72c31a40-1cf5-4e45-a1fb-a3ca18e2bad8",
   "metadata": {},
   "outputs": [
    {
     "data": {
      "text/plain": [
       "37.93710774183228"
      ]
     },
     "execution_count": 36,
     "metadata": {},
     "output_type": "execute_result"
    }
   ],
   "source": [
    "# 訓練後のバイアス b\n",
    "reg_model.intercept_"
   ]
  },
  {
   "cell_type": "code",
   "execution_count": 37,
   "id": "0a68a207-2bc9-43f2-a51d-5f556e759b42",
   "metadata": {},
   "outputs": [
    {
     "data": {
      "text/plain": [
       "0.7645451026942549"
      ]
     },
     "execution_count": 37,
     "metadata": {},
     "output_type": "execute_result"
    }
   ],
   "source": [
    "# 決定係数で精度の測定\n",
    "reg_model.score(boston_data_train, boston_target_train)"
   ]
  },
  {
   "cell_type": "markdown",
   "id": "8ec49e5b-61c6-44b0-9772-b9f9a0e6d0f3",
   "metadata": {},
   "source": [
    "## 訓練済みのモデルの推論"
   ]
  },
  {
   "cell_type": "code",
   "execution_count": 38,
   "id": "3fbe2fa5-0588-42c6-a046-1c3df5b4feac",
   "metadata": {},
   "outputs": [
    {
     "data": {
      "text/plain": [
       "array([24.9357079])"
      ]
     },
     "execution_count": 38,
     "metadata": {},
     "output_type": "execute_result"
    }
   ],
   "source": [
    "# テストデータから一つ取り出し、推論を実行\n",
    "reg_model.predict(boston_data_test[:1])"
   ]
  },
  {
   "cell_type": "code",
   "execution_count": 39,
   "id": "f8bf36ee-a0b7-4366-a551-0090d4caceec",
   "metadata": {},
   "outputs": [
    {
     "data": {
      "text/plain": [
       "22.6"
      ]
     },
     "execution_count": 39,
     "metadata": {},
     "output_type": "execute_result"
    }
   ],
   "source": [
    "# このテストデータの目標値\n",
    "boston_target_test[0]"
   ]
  },
  {
   "cell_type": "markdown",
   "id": "42bbfaf2-8091-49af-86c0-7cb8bbcc98c5",
   "metadata": {},
   "source": [
    "## テスト用データセットを用いた評価"
   ]
  },
  {
   "cell_type": "code",
   "execution_count": 40,
   "id": "67f75ef2-aa02-4e7b-bfd1-1da789731d6f",
   "metadata": {},
   "outputs": [
    {
     "data": {
      "text/plain": [
       "0.6733825506400195"
      ]
     },
     "execution_count": 40,
     "metadata": {},
     "output_type": "execute_result"
    }
   ],
   "source": [
    "# テストデータを使って決定係数Rを求める\n",
    "reg_model.score(boston_data_test, boston_target_test)"
   ]
  },
  {
   "cell_type": "markdown",
   "id": "b2283e39-cef9-444f-bc0b-d1ec50d64026",
   "metadata": {},
   "source": [
    "訓練データの場合のR値は約0.765だったのに対し、テストデータの場合は約0.673になっている。このことから、モデルが訓練データにのみ当てはまりすぎている過学習が起きていると考えられる。"
   ]
  },
  {
   "cell_type": "markdown",
   "id": "8e372b3a-d774-4243-92b5-2f0e757f8132",
   "metadata": {},
   "source": [
    "## 前処理（データセットの準備における改善）"
   ]
  },
  {
   "cell_type": "markdown",
   "id": "d55bdbd9-ef08-4256-8eca-22eaf0f11761",
   "metadata": {},
   "source": [
    "### 標準化"
   ]
  },
  {
   "cell_type": "code",
   "execution_count": 41,
   "id": "f86a55c5-e980-462d-b7c4-083bf34db52b",
   "metadata": {},
   "outputs": [],
   "source": [
    "from sklearn.preprocessing import StandardScaler\n",
    "\n",
    "scaler = StandardScaler()"
   ]
  },
  {
   "cell_type": "code",
   "execution_count": 42,
   "id": "2c3204b7-2a7a-4b59-ba07-0ab4bc03ad62",
   "metadata": {},
   "outputs": [
    {
     "data": {
      "text/plain": [
       "StandardScaler()"
      ]
     },
     "execution_count": 42,
     "metadata": {},
     "output_type": "execute_result"
    }
   ],
   "source": [
    "# 訓練用データセットの平均と分散の計算\n",
    "scaler.fit(boston_data_train)"
   ]
  },
  {
   "cell_type": "code",
   "execution_count": 43,
   "id": "7a2184b0-6694-4ee5-99bd-e55b1177ff0e",
   "metadata": {},
   "outputs": [
    {
     "data": {
      "text/plain": [
       "array([3.35828432e+00, 1.18093220e+01, 1.10787571e+01, 6.49717514e-02,\n",
       "       5.56098305e-01, 6.30842655e+00, 6.89940678e+01, 3.76245876e+00,\n",
       "       9.35310734e+00, 4.01782486e+02, 1.84734463e+01, 3.60601186e+02,\n",
       "       1.24406497e+01])"
      ]
     },
     "execution_count": 43,
     "metadata": {},
     "output_type": "execute_result"
    }
   ],
   "source": [
    "# 平均\n",
    "scaler.mean_"
   ]
  },
  {
   "cell_type": "code",
   "execution_count": 44,
   "id": "8ebab227-9b64-4c85-8f3c-2ab33bb4f1ab",
   "metadata": {},
   "outputs": [
    {
     "data": {
      "text/plain": [
       "array([6.95792305e+01, 5.57886665e+02, 4.87753572e+01, 6.07504229e-02,\n",
       "       1.33257561e-02, 4.91423928e-01, 7.83932705e+02, 4.26314655e+00,\n",
       "       7.49911344e+01, 2.90195600e+04, 4.93579208e+00, 7.31040807e+03,\n",
       "       4.99634123e+01])"
      ]
     },
     "execution_count": 44,
     "metadata": {},
     "output_type": "execute_result"
    }
   ],
   "source": [
    "# 分散\n",
    "scaler.var_"
   ]
  },
  {
   "cell_type": "code",
   "execution_count": 45,
   "id": "4a5c1a99-5472-403b-83cf-ae7d6c9a639b",
   "metadata": {},
   "outputs": [],
   "source": [
    "# 訓練データ、テストデータの標準化\n",
    "boston_data_train_scaled = scaler.transform(boston_data_train)\n",
    "boston_data_test_scaled  = scaler.transform(boston_data_test)"
   ]
  },
  {
   "cell_type": "code",
   "execution_count": 46,
   "id": "e5dcdd74-a138-4f1e-9e96-d489e326f39e",
   "metadata": {},
   "outputs": [
    {
     "data": {
      "text/plain": [
       "LinearRegression()"
      ]
     },
     "execution_count": 46,
     "metadata": {},
     "output_type": "execute_result"
    }
   ],
   "source": [
    "reg_model = LinearRegression()\n",
    "\n",
    "# モデルの訓練\n",
    "reg_model.fit(boston_data_train_scaled, boston_target_train)"
   ]
  },
  {
   "cell_type": "code",
   "execution_count": 47,
   "id": "7607aee0-847d-4c5e-bff1-46ad8c586977",
   "metadata": {},
   "outputs": [
    {
     "data": {
      "text/plain": [
       "0.7645451026942549"
      ]
     },
     "execution_count": 47,
     "metadata": {},
     "output_type": "execute_result"
    }
   ],
   "source": [
    "# 精度の検証（訓練データ）\n",
    "reg_model.score(boston_data_train_scaled, boston_target_train)"
   ]
  },
  {
   "cell_type": "code",
   "execution_count": 48,
   "id": "90765d54-4997-4a16-9845-8199c4230217",
   "metadata": {},
   "outputs": [
    {
     "data": {
      "text/plain": [
       "0.6733825506400195"
      ]
     },
     "execution_count": 48,
     "metadata": {},
     "output_type": "execute_result"
    }
   ],
   "source": [
    "# 精度の検証（テストデータ）\n",
    "reg_model.score(boston_data_test_scaled, boston_target_test)"
   ]
  },
  {
   "cell_type": "markdown",
   "id": "18a3a61e-6b63-4a46-93c7-c32ae131ebc5",
   "metadata": {},
   "source": [
    "## 正規化"
   ]
  },
  {
   "cell_type": "code",
   "execution_count": 49,
   "id": "8ffea973-5641-44e6-909b-8cbe6703b43c",
   "metadata": {},
   "outputs": [
    {
     "name": "stderr",
     "output_type": "stream",
     "text": [
      "/Users/H.Kondo/opt/anaconda3/lib/python3.9/site-packages/sklearn/preprocessing/_data.py:3237: RuntimeWarning: divide by zero encountered in log\n",
      "  loglike = -n_samples / 2 * np.log(x_trans.var())\n"
     ]
    },
    {
     "data": {
      "text/plain": [
       "LinearRegression()"
      ]
     },
     "execution_count": 49,
     "metadata": {},
     "output_type": "execute_result"
    }
   ],
   "source": [
    "from sklearn.preprocessing import PowerTransformer\n",
    "\n",
    "scaler = PowerTransformer()\n",
    "scaler.fit(boston_data_train)\n",
    "\n",
    "boston_data_train_scaled = scaler.transform(boston_data_train)\n",
    "boston_data_test_scaled = scaler.transform(boston_data_test)\n",
    "\n",
    "reg_model = LinearRegression()\n",
    "reg_model.fit(boston_data_train_scaled, boston_target_train)"
   ]
  },
  {
   "cell_type": "code",
   "execution_count": 50,
   "id": "50695024-e66d-43b7-8872-7fa6294087ea",
   "metadata": {},
   "outputs": [
    {
     "data": {
      "text/plain": [
       "0.7859862562650238"
      ]
     },
     "execution_count": 50,
     "metadata": {},
     "output_type": "execute_result"
    }
   ],
   "source": [
    "# 精度の検証（訓練データ）\n",
    "reg_model.score(boston_data_train_scaled, boston_target_train)"
   ]
  },
  {
   "cell_type": "code",
   "execution_count": 51,
   "id": "f14da83e-51e0-40bf-bd67-5f2939d9cfcc",
   "metadata": {},
   "outputs": [
    {
     "data": {
      "text/plain": [
       "0.700285655245619"
      ]
     },
     "execution_count": 51,
     "metadata": {},
     "output_type": "execute_result"
    }
   ],
   "source": [
    "# 精度の検証（テストデータ）\n",
    "reg_model.score(boston_data_test_scaled, boston_target_test)"
   ]
  },
  {
   "cell_type": "markdown",
   "id": "f18bafe3-afb4-4469-a558-70b2a95fc1c4",
   "metadata": {},
   "source": [
    "## パイプライン化"
   ]
  },
  {
   "cell_type": "code",
   "execution_count": 52,
   "id": "0ad0033f-0371-44ce-9e11-548f862867e8",
   "metadata": {},
   "outputs": [],
   "source": [
    "from sklearn.pipeline import Pipeline\n",
    "\n",
    "# パイプラインの作成 (scaler -> svr)\n",
    "pipeline = Pipeline([\n",
    "    ('scaler', PowerTransformer()),\n",
    "    ('reg', LinearRegression())\n",
    "])"
   ]
  },
  {
   "cell_type": "code",
   "execution_count": 53,
   "id": "33659b11-d075-4f75-a4db-22e14b81985b",
   "metadata": {},
   "outputs": [
    {
     "name": "stderr",
     "output_type": "stream",
     "text": [
      "/Users/H.Kondo/opt/anaconda3/lib/python3.9/site-packages/sklearn/preprocessing/_data.py:3237: RuntimeWarning: divide by zero encountered in log\n",
      "  loglike = -n_samples / 2 * np.log(x_trans.var())\n"
     ]
    },
    {
     "data": {
      "text/plain": [
       "Pipeline(steps=[('scaler', PowerTransformer()), ('reg', LinearRegression())])"
      ]
     },
     "execution_count": 53,
     "metadata": {},
     "output_type": "execute_result"
    }
   ],
   "source": [
    "# scaler および reg を順番に使用\n",
    "pipeline.fit(boston_data_train, boston_target_train)"
   ]
  },
  {
   "cell_type": "code",
   "execution_count": 54,
   "id": "6b8c3f43-7d00-4517-8533-1698151399ca",
   "metadata": {},
   "outputs": [
    {
     "data": {
      "text/plain": [
       "0.7859862562650238"
      ]
     },
     "execution_count": 54,
     "metadata": {},
     "output_type": "execute_result"
    }
   ],
   "source": [
    "# 訓練用データセットを用いた決定係数の算出\n",
    "pipeline.score(boston_data_train, boston_target_train)"
   ]
  },
  {
   "cell_type": "code",
   "execution_count": 55,
   "id": "be16f4be-e97e-4153-bc52-e6b5ad9160cd",
   "metadata": {},
   "outputs": [
    {
     "data": {
      "text/plain": [
       "0.700285655245619"
      ]
     },
     "execution_count": 55,
     "metadata": {},
     "output_type": "execute_result"
    }
   ],
   "source": [
    "# テスト用データセットを用いた決定係数の算出\n",
    "linear_result = pipeline.score(boston_data_test, boston_target_test)\n",
    "\n",
    "linear_result"
   ]
  }
 ],
 "metadata": {
  "kernelspec": {
   "display_name": "Python 3 (ipykernel)",
   "language": "python",
   "name": "python3"
  },
  "language_info": {
   "codemirror_mode": {
    "name": "ipython",
    "version": 3
   },
   "file_extension": ".py",
   "mimetype": "text/x-python",
   "name": "python",
   "nbconvert_exporter": "python",
   "pygments_lexer": "ipython3",
   "version": "3.9.7"
  }
 },
 "nbformat": 4,
 "nbformat_minor": 5
}
